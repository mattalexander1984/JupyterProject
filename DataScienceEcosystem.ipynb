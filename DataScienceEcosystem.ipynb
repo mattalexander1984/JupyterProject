{
 "cells": [
  {
   "cell_type": "markdown",
   "metadata": {},
   "source": [
    "<center>\n",
    "    <img src=\"https://cf-courses-data.s3.us.cloud-object-storage.appdomain.cloud/IBMDeveloperSkillsNetwork-DS0105EN-SkillsNetwork/labs/Module2/images/SN_web_lightmode.png\" width=\"300\" alt=\"cognitiveclass.ai logo\">\n",
    "</center>\n"
   ]
  },
  {
   "cell_type": "markdown",
   "metadata": {
    "tags": []
   },
   "source": [
    "#### Add your code below following the instructions given in the course\n"
   ]
  },
  {
   "cell_type": "markdown",
   "metadata": {},
   "source": [
    "#Data Science Tools and Ecosystem"
   ]
  },
  {
   "cell_type": "markdown",
   "metadata": {},
   "source": [
    "#In this notebook, Data Science Tools and Ecosystem are summarized."
   ]
  },
  {
   "cell_type": "markdown",
   "metadata": {},
   "source": [
    "#Some of the popular languages that data scientists use are:\n",
    "\n",
    "1- Julia\n",
    "2- Python\n",
    "3- R\n",
    "4- C++\n",
    "5- Java"
   ]
  },
  {
   "cell_type": "markdown",
   "metadata": {},
   "source": [
    "#Some of the popular data science libraries are:\n",
    "\n",
    "1- Scrapy\n",
    "2- NumPy\n",
    "3- SciPy\n",
    "4- Pandas\n",
    "5- TensorFlow"
   ]
  },
  {
   "cell_type": "markdown",
   "metadata": {},
   "source": [
    "|Data Science Tools|\n",
    "|Jupyter|\n",
    "|R Studio|\n",
    "|GitHub|"
   ]
  },
  {
   "cell_type": "markdown",
   "metadata": {},
   "source": [
    "###Below are a few examples of evaluating arithmetic expressions in Python\n",
    "\n",
    "3 + 2\n",
    "(3 + 2)*5\n",
    "6-2 "
   ]
  },
  {
   "cell_type": "code",
   "execution_count": 2,
   "metadata": {
    "tags": []
   },
   "outputs": [
    {
     "data": {
      "text/plain": [
       "17"
      ]
     },
     "execution_count": 2,
     "metadata": {},
     "output_type": "execute_result"
    }
   ],
   "source": [
    "#This is a code cell that evaluates the operation of addition and multiplication on integers\n",
    "\n",
    "(3*4) + 5"
   ]
  },
  {
   "cell_type": "code",
   "execution_count": 5,
   "metadata": {
    "tags": []
   },
   "outputs": [
    {
     "name": "stdout",
     "output_type": "stream",
     "text": [
      "3.3333333333333335\n"
     ]
    }
   ],
   "source": [
    "#This cell will convert minutes to hour by dividing by 60\n",
    "#The file name says the reverse, hours to minutes\n",
    "\n",
    "x = 200\n",
    "hours = x / 60\n",
    "\n",
    "print(hours)"
   ]
  },
  {
   "cell_type": "markdown",
   "metadata": {},
   "source": [
    "#__Objectives:__\n",
    "\n",
    "- List data science languages\n",
    "- List data science libraries\n",
    "- List data science open source tools\n",
    "- Demonstrate arithmetic expressions "
   ]
  },
  {
   "cell_type": "markdown",
   "metadata": {},
   "source": [
    "##Author\n",
    "\n",
    "Matthew Alexander"
   ]
  }
 ],
 "metadata": {
  "kernelspec": {
   "display_name": "Python",
   "language": "python",
   "name": "conda-env-python-py"
  },
  "language_info": {
   "codemirror_mode": {
    "name": "ipython",
    "version": 3
   },
   "file_extension": ".py",
   "mimetype": "text/x-python",
   "name": "python",
   "nbconvert_exporter": "python",
   "pygments_lexer": "ipython3",
   "version": "3.7.12"
  }
 },
 "nbformat": 4,
 "nbformat_minor": 4
}
